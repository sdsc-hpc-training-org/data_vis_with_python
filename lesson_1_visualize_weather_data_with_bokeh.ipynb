{
 "cells": [
  {
   "cell_type": "markdown",
   "metadata": {},
   "source": [
    "# Interactive Visualization of Weather Time Series Data With Bokeh\n",
    "In this lesson, we will do some simple plotting just using matplotlib to get an idea of what plotting is typically like in Python. Then we will add some pan/zoom interactivity to the plots using Bokeh. \n",
    "\n",
    "But first, about this data. This data was collected from the High-Performance Wireless Research and Education Network (HPWREN, https://hpwren.ucsd.edu ). HPWREN has worked in coordination with the San Diego Gas & Electric and regional fire first response services to establish the finest real-time weather data collection and video minitoring system on the planet."
   ]
  },
  {
   "cell_type": "code",
   "execution_count": null,
   "metadata": {},
   "outputs": [],
   "source": [
    "# import packages\n",
    "import pandas as pd\n",
    "import datetime, dateutil\n",
    "import ipywidgets as widgets\n",
    "from matplotlib import pyplot as plt\n",
    "from bokeh.io import export_png, output_notebook\n",
    "from bokeh.plotting import figure, show, output_file\n",
    "from bokeh.models import ColumnDataSource\n",
    "from bokeh.layouts import gridplot\n",
    "from pprint import pprint\n",
    "output_notebook()"
   ]
  },
  {
   "cell_type": "markdown",
   "metadata": {},
   "source": [
    "### Read CSV Data Files With Pandas"
   ]
  },
  {
   "cell_type": "code",
   "execution_count": null,
   "metadata": {},
   "outputs": [],
   "source": [
    "df = pd.read_csv('data/csv/weather/toropeak.csv', header=0, index_col=1, parse_dates=True)"
   ]
  },
  {
   "cell_type": "code",
   "execution_count": null,
   "metadata": {},
   "outputs": [],
   "source": [
    "df.head()"
   ]
  },
  {
   "cell_type": "markdown",
   "metadata": {},
   "source": [
    "We can see a column named 'id' which we won't need for this lesson so let's drop it."
   ]
  },
  {
   "cell_type": "code",
   "execution_count": null,
   "metadata": {},
   "outputs": [],
   "source": [
    "df = df.drop(columns=['id'])"
   ]
  },
  {
   "cell_type": "code",
   "execution_count": null,
   "metadata": {},
   "outputs": [],
   "source": [
    "df.head()"
   ]
  },
  {
   "cell_type": "markdown",
   "metadata": {},
   "source": [
    "Now let's plot all of the humidity data."
   ]
  },
  {
   "cell_type": "code",
   "execution_count": null,
   "metadata": {},
   "outputs": [],
   "source": [
    "df.humidity.plot()"
   ]
  },
  {
   "cell_type": "markdown",
   "metadata": {},
   "source": [
    "That's great, but let's make it bigger. "
   ]
  },
  {
   "cell_type": "code",
   "execution_count": null,
   "metadata": {},
   "outputs": [],
   "source": [
    "df.humidity.plot(figsize=(20,5))"
   ]
  },
  {
   "cell_type": "markdown",
   "metadata": {},
   "source": [
    "Next, let's create a plot which combines all four columns of weather data. We will also label the y axes, give each plot a title, and color them differently. "
   ]
  },
  {
   "cell_type": "code",
   "execution_count": null,
   "metadata": {},
   "outputs": [],
   "source": [
    "f, (ax1, ax2, ax3, ax4) = plt.subplots(4, 1, figsize=(20,10))\n",
    "ax1.plot(df.temperature, color='r')\n",
    "ax1.set_title('Temperature', color='r')\n",
    "ax1.set_ylabel('Degrees C')\n",
    "ax1.get_xaxis().set_visible(False)\n",
    "ax2.plot(df.humidity, color='g')\n",
    "ax2.set_title('Relative Humidity', color='g')\n",
    "ax2.set_ylabel('% RH')\n",
    "ax2.get_xaxis().set_visible(False)\n",
    "ax3.plot(df.wind_speed, color='b')\n",
    "ax3.set_title('Wind Speed', color='b')\n",
    "ax3.set_ylabel('Meters/Sec')\n",
    "ax3.get_xaxis().set_visible(False)\n",
    "ax4.plot(df.wind_dir, color='m')\n",
    "ax4.set_xlabel('Date')\n",
    "ax4.set_ylabel('Deg. CW from N')\n",
    "ax4.set_title('Wind Direction', color='m')\n",
    "f.autofmt_xdate()"
   ]
  },
  {
   "cell_type": "markdown",
   "metadata": {},
   "source": [
    "Let's try a different layout, 2 rows and 2 columns istead of 4 rows and 1 column. "
   ]
  },
  {
   "cell_type": "code",
   "execution_count": null,
   "metadata": {},
   "outputs": [],
   "source": [
    "f, ((ax1, ax2), (ax3, ax4)) = plt.subplots(2, 2, figsize=(20,10))\n",
    "ax1.plot(df.temperature, color='r')\n",
    "ax1.set_title('Temperature', color='r')\n",
    "ax1.set_ylabel('Degrees C')\n",
    "ax1.get_xaxis().set_visible(False)\n",
    "ax2.plot(df.humidity, color='g')\n",
    "ax2.set_title('Relative Humidity', color='g')\n",
    "ax2.set_ylabel('% RH')\n",
    "ax2.get_xaxis().set_visible(False)\n",
    "ax3.plot(df.wind_speed, color='b')\n",
    "ax3.set_title('Wind Speed', color='b')\n",
    "ax3.set_xlabel('Date')\n",
    "ax3.set_ylabel('Meters/Sec')\n",
    "ax4.plot(df.wind_dir, color='m')\n",
    "ax4.set_xlabel('Date')\n",
    "ax4.set_ylabel('Deg. CW from N')\n",
    "ax4.set_title('Wind Direction', color='m')\n",
    "f.autofmt_xdate()"
   ]
  },
  {
   "cell_type": "markdown",
   "metadata": {},
   "source": [
    "Next, let's read in the same data file but without specifying the 'timestamp' column as the index so we can extract subsets of data and plot them in a different way."
   ]
  },
  {
   "cell_type": "code",
   "execution_count": null,
   "metadata": {},
   "outputs": [],
   "source": [
    "df = pd.read_csv('data/csv/weather/toropeak.csv', header=0, index_col=0, parse_dates=True)"
   ]
  },
  {
   "cell_type": "code",
   "execution_count": null,
   "metadata": {},
   "outputs": [],
   "source": [
    "df.head()"
   ]
  },
  {
   "cell_type": "markdown",
   "metadata": {},
   "source": [
    "Next, let's extract a subset of data such as the timestamp and humidity columns and plot that. "
   ]
  },
  {
   "cell_type": "code",
   "execution_count": null,
   "metadata": {},
   "outputs": [],
   "source": [
    "humidity_with_timestamp_df = df[['timestamp','humidity']]"
   ]
  },
  {
   "cell_type": "code",
   "execution_count": null,
   "metadata": {},
   "outputs": [],
   "source": [
    "humidity_with_timestamp_df.head()"
   ]
  },
  {
   "cell_type": "code",
   "execution_count": null,
   "metadata": {},
   "outputs": [],
   "source": [
    "humidity_with_timestamp_df.plot()"
   ]
  },
  {
   "cell_type": "markdown",
   "metadata": {},
   "source": [
    "OK, that's nice, but let's rename the 'timestamp' column to 'Date' once again, make it bigger, label the y axis, and save the resulting plot as a PNG image file. "
   ]
  },
  {
   "cell_type": "code",
   "execution_count": null,
   "metadata": {},
   "outputs": [],
   "source": [
    "humidity_with_timestamp_df = humidity_with_timestamp_df.rename(columns={'timestamp':'Date'})"
   ]
  },
  {
   "cell_type": "code",
   "execution_count": null,
   "metadata": {},
   "outputs": [],
   "source": [
    "humidity_with_timestamp_df.set_index('Date').plot(figsize=(20,10)).set_ylabel('% RH')\n",
    "plt.savefig(\"images/humidity.png\")"
   ]
  },
  {
   "cell_type": "markdown",
   "metadata": {},
   "source": [
    "## Create Interactive Visualizations With Bokeh"
   ]
  },
  {
   "cell_type": "markdown",
   "metadata": {},
   "source": [
    "Next, we will create some interactive plots using Bokeh, but first we need to convert our dataframes to lists. First, we will create a new variable, xtime, for the x-axis. "
   ]
  },
  {
   "cell_type": "code",
   "execution_count": null,
   "metadata": {},
   "outputs": [],
   "source": [
    "xtime = pd.to_datetime(df.timestamp)"
   ]
  },
  {
   "cell_type": "markdown",
   "metadata": {},
   "source": [
    "Now let's generate a line plot and explore Bokeh's interactivity. "
   ]
  },
  {
   "cell_type": "code",
   "execution_count": null,
   "metadata": {},
   "outputs": [],
   "source": [
    "p = figure(title=\"Humidity\", plot_width=800, plot_height=300)\n",
    "p.line(xtime, df.humidity, color=\"#F46D43\")\n",
    "show(p)"
   ]
  },
  {
   "cell_type": "markdown",
   "metadata": {},
   "source": [
    "There appears to be something odd about the x-axis tic mark labels. they appear to be very large floating point numbers. To fix this, we can use the 'x_axis_type' attribute to be 'datetime'."
   ]
  },
  {
   "cell_type": "code",
   "execution_count": null,
   "metadata": {},
   "outputs": [],
   "source": [
    "p = figure(title=\"Humidity\", plot_width=800, plot_height=300, x_axis_type='datetime')\n",
    "p.line(xtime, df.humidity, color=\"#F46D43\")\n",
    "show(p)"
   ]
  },
  {
   "cell_type": "markdown",
   "metadata": {},
   "source": [
    "Next, let's create a combined plot similar to what we did previously with just matplotlib."
   ]
  },
  {
   "cell_type": "code",
   "execution_count": null,
   "metadata": {
    "scrolled": false
   },
   "outputs": [],
   "source": [
    "figures = []\n",
    "p = figure(title=\"Temperature\", x_axis_type='datetime')\n",
    "p.line(xtime, df.temperature, color=\"#990000\")\n",
    "figures.append(p)\n",
    "p = figure(title=\"Humidity\", x_axis_type='datetime')\n",
    "p.line(xtime, df.humidity, color=\"#009900\")\n",
    "figures.append(p)\n",
    "p = figure(title=\"Wind Speed\", x_axis_type='datetime')\n",
    "p.line(xtime, df.wind_speed, color=\"#000099\")\n",
    "figures.append(p)\n",
    "p = figure(title=\"Wind Direction\", x_axis_type='datetime')\n",
    "p.line(xtime, df.wind_dir, color=\"#990099\")\n",
    "figures.append(p)\n",
    "\n",
    "show(gridplot(figures, ncols=1, plot_width=800, plot_height=200))"
   ]
  },
  {
   "cell_type": "markdown",
   "metadata": {},
   "source": [
    "OK, now we've got something that is very interactive, but wouldn't it be great if we could link the panning and zooming across all 4 plots? We can do that by using the x_range attribute and set all for to the same variable. This way we can lock all four plots together for panning and zooming. Very nice!"
   ]
  },
  {
   "cell_type": "code",
   "execution_count": null,
   "metadata": {
    "scrolled": false
   },
   "outputs": [],
   "source": [
    "figures = []\n",
    "s1 = figure(title=\"Temperature\", x_axis_type='datetime')\n",
    "s1.line(xtime, df.temperature, color=\"#990000\")\n",
    "s2 = figure(title=\"Humidity\", x_range=s1.x_range, x_axis_type='datetime')\n",
    "s2.line(xtime, df.humidity, color=\"#009900\")\n",
    "s3 = figure(title=\"Wind Speed\", x_range=s1.x_range, x_axis_type='datetime')\n",
    "s3.line(xtime, df.wind_speed, color=\"#000099\")\n",
    "s4 = figure(title=\"Wind Direction\", x_range=s1.x_range, x_axis_type='datetime')\n",
    "s4.line(xtime, df.wind_dir, color=\"#990099\")\n",
    "\n",
    "show(gridplot([[s1], [s2], [s3], [s4]], plot_width=800, plot_height=200))"
   ]
  },
  {
   "cell_type": "code",
   "execution_count": null,
   "metadata": {},
   "outputs": [],
   "source": [
    "w = widgets.Dropdown(\n",
    "    options=['bigblackmountain','boucherhill','lyonspeak','mesagrande','mtlaguna','mtwoodson','pala','redmountain','sanclementeisland','santaynezpeak','santaysabel','santiagopeak','sdsc','signal','skyoaks','smerns','toropeak','upperbell','uppertalega','warnersprings'],\n",
    "    value='toropeak',\n",
    "    description='Number:',\n",
    "    disabled=False,\n",
    ")\n",
    "\n",
    "def on_change(change):\n",
    "    if change['type'] == 'change' and change['name'] == 'value':\n",
    "        new_file = 'data/csv/weather/' + str(change['new']) + '.csv'\n",
    "        df = pd.read_csv(new_file, header=0, index_col=0, parse_dates=True)\n",
    "        f, (ax1, ax2, ax3, ax4) = plt.subplots(4, 1, figsize=(20,10))\n",
    "        ax1.plot(df.temperature, color='r')\n",
    "        ax1.set_title('Temperature', color='r')\n",
    "        ax1.set_ylabel('Degrees C')\n",
    "        ax1.get_xaxis().set_visible(False)\n",
    "        ax2.plot(df.humidity, color='g')\n",
    "        ax2.set_title('Relative Humidity', color='g')\n",
    "        ax2.set_ylabel('% RH')\n",
    "        ax2.get_xaxis().set_visible(False)\n",
    "        ax3.plot(df.wind_speed, color='b')\n",
    "        ax3.set_title('Wind Speed', color='b')\n",
    "        ax3.set_ylabel('Meters/Sec')\n",
    "        ax3.get_xaxis().set_visible(False)\n",
    "        ax4.plot(df.wind_dir, color='m')\n",
    "        ax4.set_xlabel('Date')\n",
    "        ax4.set_ylabel('Deg. CW from N')\n",
    "        ax4.set_title('Wind Direction', color='m')\n",
    "        f.autofmt_xdate()\n",
    "\n",
    "w.observe(on_change)\n",
    "\n",
    "display(w)"
   ]
  },
  {
   "cell_type": "code",
   "execution_count": null,
   "metadata": {
    "scrolled": false
   },
   "outputs": [],
   "source": [
    "w = widgets.Dropdown(\n",
    "    options=['bigblackmountain','boucherhill','lyonspeak','mesagrande','mtlaguna','mtwoodson','pala','redmountain','sanclementeisland','santaynezpeak','santaysabel','santiagopeak','sdsc','signal','skyoaks','smerns','toropeak','upperbell','uppertalega','warnersprings'],\n",
    "    value='toropeak',\n",
    "    description='Number:',\n",
    "    disabled=False,\n",
    ")\n",
    "\n",
    "def on_change(change):\n",
    "    if change['type'] == 'change' and change['name'] == 'value':\n",
    "        new_file = 'data/csv/weather/' + str(change['new']) + '.csv'\n",
    "        df = pd.read_csv(new_file, header=0, index_col=0, parse_dates=True)\n",
    "        xtime = pd.to_datetime(df.timestamp)\n",
    "        figures = []\n",
    "        s1 = figure(title=\"Temperature\", x_axis_type='datetime')\n",
    "        s1.line(xtime, df.temperature, color=\"#990000\")\n",
    "        s2 = figure(title=\"Humidity\", x_range=s1.x_range, x_axis_type='datetime')\n",
    "        s2.line(xtime, df.humidity, color=\"#009900\")\n",
    "        s3 = figure(title=\"Wind Speed\", x_range=s1.x_range, x_axis_type='datetime')\n",
    "        s3.line(xtime, df.wind_speed, color=\"#000099\")\n",
    "        s4 = figure(title=\"Wind Direction\", x_range=s1.x_range, x_axis_type='datetime')\n",
    "        s4.line(xtime, df.wind_dir, color=\"#990099\")\n",
    "\n",
    "        show(gridplot([[s1], [s2], [s3], [s4]], plot_width=800, plot_height=200))\n",
    "\n",
    "w.observe(on_change)\n",
    "\n",
    "display(w)"
   ]
  },
  {
   "cell_type": "code",
   "execution_count": null,
   "metadata": {},
   "outputs": [],
   "source": []
  }
 ],
 "metadata": {
  "kernelspec": {
   "display_name": "Python 3",
   "language": "python",
   "name": "python3"
  },
  "language_info": {
   "codemirror_mode": {
    "name": "ipython",
    "version": 3
   },
   "file_extension": ".py",
   "mimetype": "text/x-python",
   "name": "python",
   "nbconvert_exporter": "python",
   "pygments_lexer": "ipython3",
   "version": "3.6.6"
  }
 },
 "nbformat": 4,
 "nbformat_minor": 2
}

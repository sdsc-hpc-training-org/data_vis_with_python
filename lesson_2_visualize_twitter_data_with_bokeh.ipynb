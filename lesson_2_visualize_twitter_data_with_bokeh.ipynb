{
 "cells": [
  {
   "cell_type": "markdown",
   "metadata": {
    "extensions": {
     "jupyter_dashboards": {
      "version": 1,
      "views": {
       "grid_default": {
        "hidden": true
       },
       "report_default": {
        "hidden": true
       }
      }
     }
    }
   },
   "source": [
    "<h1>Plot Tweet Timelines Using Bins and Interactive Bokeh Scatterplots</h1>\n",
    "<p>For this lesson we will generate timeline plots of individual tweets and all retweets for the most retweeted tweets using 5 minute (variable) bins and interactive Bokeh scatterplots with Botometer scores and follower counts. </p>"
   ]
  },
  {
   "cell_type": "markdown",
   "metadata": {
    "extensions": {
     "jupyter_dashboards": {
      "version": 1,
      "views": {
       "grid_default": {
        "col": 4,
        "height": 4,
        "hidden": false,
        "row": 0,
        "width": 4
       },
       "report_default": {
        "hidden": false
       }
      }
     }
    }
   },
   "source": [
    "<h2>About the Data</h2>\n",
    "<p>This dataset was created earlier this year using the Twitter Streaming API searching for all tweets/retweets which use the hashtag 'muellerreport'. The original data was collected in its native JSON format. The JSON data comprised more than 5 GB. We reduced the size by extracting a subset of features, only a few of which we will need for this lesson. Here are some stats for the dataset. </p>\n",
    "<p>Start: 2019-04-09 17:59:58</p>\n",
    "<p>End: 2019-04-29 15:24:59</p>\n",
    "<p>1,732,899 Total Tweets</p>\n",
    "<p>1,420,964 Retweets</p>\n",
    "<p>311,935 Original Tweets</p>"
   ]
  },
  {
   "cell_type": "code",
   "execution_count": null,
   "metadata": {
    "extensions": {
     "jupyter_dashboards": {
      "version": 1,
      "views": {
       "grid_default": {
        "hidden": true
       },
       "report_default": {
        "hidden": true
       }
      }
     }
    },
    "scrolled": true
   },
   "outputs": [],
   "source": [
    "# import packages\n",
    "import datetime\n",
    "import math\n",
    "import matplotlib.pyplot as plt\n",
    "import json\n",
    "import pandas as pd\n",
    "import numpy as np\n",
    "from math import exp, expm1\n",
    "from bokeh.io import export_png, output_notebook\n",
    "from bokeh.plotting import figure, show, output_file\n",
    "from bokeh.models import ColumnDataSource, HoverTool\n",
    "from pprint import pprint\n",
    "pd.options.display.max_colwidth = 350"
   ]
  },
  {
   "cell_type": "code",
   "execution_count": null,
   "metadata": {
    "extensions": {
     "jupyter_dashboards": {
      "version": 1,
      "views": {
       "grid_default": {
        "hidden": true
       },
       "report_default": {
        "hidden": true
       }
      }
     }
    }
   },
   "outputs": [],
   "source": [
    "hashtag = 'muellerreport'"
   ]
  },
  {
   "cell_type": "markdown",
   "metadata": {
    "extensions": {
     "jupyter_dashboards": {
      "version": 1,
      "views": {
       "grid_default": {
        "col": 8,
        "height": 4,
        "hidden": false,
        "row": 0,
        "width": 4
       },
       "report_default": {
        "hidden": false
       }
      }
     }
    }
   },
   "source": [
    "<h1>Using PKL For Input</h1>"
   ]
  },
  {
   "cell_type": "code",
   "execution_count": null,
   "metadata": {
    "extensions": {
     "jupyter_dashboards": {
      "version": 1,
      "views": {
       "grid_default": {
        "hidden": true
       },
       "report_default": {
        "hidden": true
       }
      }
     }
    }
   },
   "outputs": [],
   "source": [
    "df = pd.read_pickle('data/pkl/muellerreport_tweets_set2.pkl')"
   ]
  },
  {
   "cell_type": "code",
   "execution_count": null,
   "metadata": {
    "extensions": {
     "jupyter_dashboards": {
      "version": 1,
      "views": {
       "grid_default": {
        "col": 0,
        "height": 19,
        "hidden": false,
        "row": 4,
        "width": 12
       },
       "report_default": {
        "hidden": false
       }
      }
     }
    }
   },
   "outputs": [],
   "source": [
    "df.head()"
   ]
  },
  {
   "cell_type": "markdown",
   "metadata": {
    "extensions": {
     "jupyter_dashboards": {
      "version": 1,
      "views": {
       "grid_default": {
        "col": 0,
        "height": 4,
        "hidden": false,
        "row": 23,
        "width": 12
       },
       "report_default": {
        "hidden": false
       }
      }
     }
    }
   },
   "source": [
    "<h2>Extract Retweets</h2>\n",
    "<p>Next, we need to work only with retweets. These are the tweets with retweeted_status = 1. </p>"
   ]
  },
  {
   "cell_type": "code",
   "execution_count": null,
   "metadata": {
    "extensions": {
     "jupyter_dashboards": {
      "version": 1,
      "views": {
       "grid_default": {
        "hidden": true
       },
       "report_default": {
        "hidden": true
       }
      }
     }
    }
   },
   "outputs": [],
   "source": [
    "retweet_df = df[df.retweeted_status != 0]"
   ]
  },
  {
   "cell_type": "markdown",
   "metadata": {
    "extensions": {
     "jupyter_dashboards": {
      "version": 1,
      "views": {
       "grid_default": {
        "col": 0,
        "height": 4,
        "hidden": false,
        "row": 27,
        "width": 4
       },
       "report_default": {
        "hidden": false
       }
      }
     }
    }
   },
   "source": [
    "<h2>Generate Top Retweets, Top Retweeted, and Top Retweeters in the Dataset.</h2>\n",
    "<p>For this lesson we need the top retweeted tweets and the top retweeters in the dataset. Just for grins, we also generate a dataframe containing a list of the Twitter users who were retweeted the most in this dataset. This should give us an idea about some of the more interesting features of the dataset. </p>"
   ]
  },
  {
   "cell_type": "code",
   "execution_count": null,
   "metadata": {
    "extensions": {
     "jupyter_dashboards": {
      "version": 1,
      "views": {
       "grid_default": {
        "hidden": true
       },
       "report_default": {
        "hidden": true
       }
      }
     }
    }
   },
   "outputs": [],
   "source": [
    "topretweets = retweet_df[retweet_df.retweeted_status != 0].groupby('retweet_id').size().sort_values(ascending=False).reset_index()\n",
    "topretweeters = retweet_df[retweet_df.retweeted_status != 0].groupby('user_screen_name').size().sort_values(ascending=False).reset_index()\n",
    "topretweeted = retweet_df[retweet_df.retweeted_status != 0].groupby('retweet_user_screen_name').size().sort_values(ascending=False).reset_index()"
   ]
  },
  {
   "cell_type": "markdown",
   "metadata": {
    "extensions": {
     "jupyter_dashboards": {
      "version": 1,
      "views": {
       "grid_default": {
        "col": 0,
        "height": 4,
        "hidden": false,
        "row": 23,
        "width": 12
       },
       "report_default": {
        "hidden": false
       }
      }
     }
    }
   },
   "source": [
    "The feature we are interested in for this lesson is those tweets which were retweeted the most in the dataset, including their retweet count. Let's look at the first 5 rows of the top retweeted tweets."
   ]
  },
  {
   "cell_type": "code",
   "execution_count": null,
   "metadata": {},
   "outputs": [],
   "source": [
    "topretweets.head()"
   ]
  },
  {
   "cell_type": "markdown",
   "metadata": {
    "extensions": {
     "jupyter_dashboards": {
      "version": 1,
      "views": {
       "grid_default": {
        "col": 0,
        "height": 4,
        "hidden": false,
        "row": 23,
        "width": 12
       },
       "report_default": {
        "hidden": false
       }
      }
     }
    }
   },
   "source": [
    "The column named '0\" contains the retweet counts. Let's rename that column."
   ]
  },
  {
   "cell_type": "code",
   "execution_count": null,
   "metadata": {},
   "outputs": [],
   "source": [
    "topretweets = topretweets.rename(columns={0:'retweet_count'})"
   ]
  },
  {
   "cell_type": "code",
   "execution_count": null,
   "metadata": {},
   "outputs": [],
   "source": [
    "topretweets.head()"
   ]
  },
  {
   "cell_type": "markdown",
   "metadata": {
    "extensions": {
     "jupyter_dashboards": {
      "version": 1,
      "views": {
       "grid_default": {
        "col": 0,
        "height": 4,
        "hidden": false,
        "row": 23,
        "width": 12
       },
       "report_default": {
        "hidden": false
       }
      }
     }
    }
   },
   "source": [
    "Let's do the same for the top retweeters."
   ]
  },
  {
   "cell_type": "code",
   "execution_count": null,
   "metadata": {},
   "outputs": [],
   "source": [
    "topretweeters = topretweeters.rename(columns={0:'retweet_count'})"
   ]
  },
  {
   "cell_type": "code",
   "execution_count": null,
   "metadata": {},
   "outputs": [],
   "source": [
    "topretweeters.head()"
   ]
  },
  {
   "cell_type": "code",
   "execution_count": null,
   "metadata": {},
   "outputs": [],
   "source": [
    "topretweeted = topretweeted.rename(columns={0:'retweet_count'})"
   ]
  },
  {
   "cell_type": "code",
   "execution_count": null,
   "metadata": {},
   "outputs": [],
   "source": [
    "topretweeted.head()"
   ]
  },
  {
   "cell_type": "markdown",
   "metadata": {
    "extensions": {
     "jupyter_dashboards": {
      "version": 1,
      "views": {
       "grid_default": {
        "col": 0,
        "height": 4,
        "hidden": false,
        "row": 39,
        "width": 4
       },
       "report_default": {
        "hidden": false
       }
      }
     }
    }
   },
   "source": [
    "## Generate 'Binned' Plot For Entire Dataset\n",
    "In this step we will use a 5 minute bin size and generate a binned frequency plot for the entire dataset. "
   ]
  },
  {
   "cell_type": "code",
   "execution_count": null,
   "metadata": {
    "extensions": {
     "jupyter_dashboards": {
      "version": 1,
      "views": {
       "grid_default": {
        "hidden": true
       },
       "report_default": {
        "hidden": false
       }
      }
     }
    }
   },
   "outputs": [],
   "source": [
    "retweet_df.groupby(pd.Grouper(key='tweet_created_at', freq='5Min', convention='start')).size().plot(figsize=(18,6))\n",
    "plt.xlabel('Date')\n",
    "plt.ylabel('5 Minute Tweet Count')\n",
    "plt.title('#' + hashtag + ' Tweet Freq. Count, April 9-29, 2019')\n",
    "plt.xlim([datetime.date(2019, 4, 9), datetime.date(2019, 4, 30)])\n",
    "plt.grid(True)\n",
    "plt.savefig(\"images/binned_plots/\" + hashtag + \"_set2_all_tweets_freq_count_apr9_to_29_2019.png\")\n",
    "plt.show()"
   ]
  },
  {
   "cell_type": "markdown",
   "metadata": {
    "extensions": {
     "jupyter_dashboards": {
      "version": 1,
      "views": {
       "grid_default": {
        "col": 8,
        "height": 4,
        "hidden": false,
        "row": 43,
        "width": 4
       },
       "report_default": {
        "hidden": false
       }
      }
     }
    }
   },
   "source": [
    "## Generate Individual 'Binned' or 'Frequency' Plots of Top Retweets\n",
    "In this step we will generate one plot for each of the top retweeted tweets in the dataset. For these plots we will use a 5 minute bin size. "
   ]
  },
  {
   "cell_type": "code",
   "execution_count": null,
   "metadata": {
    "extensions": {
     "jupyter_dashboards": {
      "version": 1,
      "views": {
       "grid_default": {
        "hidden": true
       },
       "report_default": {
        "hidden": true
       }
      }
     }
    }
   },
   "outputs": [],
   "source": [
    "start_tweet = 0\n",
    "end_tweet = 20\n",
    "for top in range(start_tweet, end_tweet):\n",
    "    tweetid = topretweets.iloc[top].retweet_id\n",
    "    top_tweets = retweet_df[retweet_df.retweet_id==tweetid]\n",
    "    plt.figure()\n",
    "    top_tweets.groupby(pd.Grouper(key='tweet_created_at', freq='5Min', convention='start')).size().plot(figsize=(18,6))\n",
    "    plt.ylabel('5 Minute Bin Tweet Count')\n",
    "    plt.title(str(top) + '- #' + hashtag + ' Tweet ID: {}, April 19-29, 2019'.format(tweetid))\n",
    "    plt.savefig(\"images/binned_plots/\" + str(top) + \"_\" + hashtag + \"_set2_tweet_\" + str(tweetid) + \"_binned_apr19_to_29_2019.png\")"
   ]
  },
  {
   "cell_type": "markdown",
   "metadata": {
    "extensions": {
     "jupyter_dashboards": {
      "version": 1,
      "views": {
       "grid_default": {
        "col": 8,
        "height": 4,
        "hidden": false,
        "row": 35,
        "width": 4
       },
       "report_default": {
        "hidden": false
       }
      }
     }
    }
   },
   "source": [
    "<h2>Generate Combined Plot of Top 20 Retweet Frequency Counts</h2>"
   ]
  },
  {
   "cell_type": "code",
   "execution_count": null,
   "metadata": {
    "extensions": {
     "jupyter_dashboards": {
      "version": 1,
      "views": {
       "grid_default": {
        "col": 8,
        "height": 4,
        "hidden": false,
        "row": 39,
        "width": 4
       },
       "report_default": {
        "hidden": false
       }
      }
     }
    }
   },
   "outputs": [],
   "source": [
    "plt.figure(figsize=(36,12))\n",
    "start_tweet = 0\n",
    "end_tweet = 20\n",
    "for top in range(start_tweet,end_tweet):\n",
    "    tweetid = topretweets.iloc[top].retweet_id\n",
    "    top_retweets = retweet_df[retweet_df.retweet_id==tweetid]\n",
    "    top_retweets.groupby(\\\n",
    "        pd.Grouper(key='tweet_created_at', freq='5Min', convention='start')).size().plot()\n",
    "\n",
    "plt.xlabel('Date')\n",
    "plt.ylabel('5 Minute Tweet Count')\n",
    "plt.title('Top Retweets for #' + hashtag + ' Dataset 2, April 9-29, 2019')\n",
    "plt.xlim([datetime.date(2019, 4, 9), datetime.date(2019, 4, 30)])\n",
    "plt.savefig(\"images/binned_plots/\" + hashtag + \"_top_retweet_timelines.png\")\n",
    "plt.show()"
   ]
  },
  {
   "cell_type": "markdown",
   "metadata": {
    "extensions": {
     "jupyter_dashboards": {
      "version": 1,
      "views": {
       "grid_default": {
        "col": 8,
        "height": 4,
        "hidden": false,
        "row": 47,
        "width": 4
       },
       "report_default": {
        "hidden": false
       }
      }
     }
    }
   },
   "source": [
    "## Generate 'Cumulative Timelines' of Top Tweet Lifespans\n",
    "Cumulative timelines are a novel method for using scatterplots to reveal features of retweet activity which may not be apparent in a binned plot. This method simply uses an integer increment for the y-axis, helping to reveal moments in a tweets life in which retweets surge or wane. "
   ]
  },
  {
   "cell_type": "code",
   "execution_count": null,
   "metadata": {
    "extensions": {
     "jupyter_dashboards": {
      "version": 1,
      "views": {
       "grid_default": {
        "hidden": true
       },
       "report_default": {
        "hidden": false
       }
      }
     }
    },
    "scrolled": true
   },
   "outputs": [],
   "source": [
    "start_tweet = 0\n",
    "end_tweet = 2\n",
    "for top in range(start_tweet, end_tweet):\n",
    "    \n",
    "    # Get all retweets for tweetid\n",
    "    tweetid = topretweets.iloc[top].retweet_id\n",
    "    top_retweets = retweet_df[retweet_df.retweet_id==tweetid].sort_values('tweet_created_at').reset_index()\n",
    "    \n",
    "    # Create a list of dates for x axis\n",
    "    values = list(x for x in top_retweets[\"tweet_created_at\"])\n",
    "    \n",
    "    plt.figure(figsize=(18,6))\n",
    "    plt.plot(top_retweets.tweet_created_at, top_retweets.index, 'ro', markersize=0.1)\n",
    "    plt.xlim([datetime.date(values[0].year, values[0].month, values[0].day), datetime.date(2019, 4, 30)])\n",
    "    plt.xlabel('Date')\n",
    "    plt.ylabel('Cumulative Retweet Count')\n",
    "    plt.title(str(top) + ' - Cumulative Timeline, #' + hashtag + ' Set 2, Tweet ID: ' + str(tweetid))\n",
    "    plt.show()\n",
    "    plt.savefig(\"images/cumulative_scatterplots/\" + str(top) + \"_\" + hashtag + \"_set2_tweet_\" + str(tweetid) + \"_scatter_v1_apr9_to_29_2019.png\")\n",
    "    plt.close()"
   ]
  },
  {
   "cell_type": "markdown",
   "metadata": {
    "extensions": {
     "jupyter_dashboards": {
      "version": 1,
      "views": {
       "grid_default": {
        "hidden": true
       },
       "report_default": {
        "hidden": true
       }
      }
     }
    }
   },
   "source": [
    "<h2>Generate 'Cumulative Timelines' of Top Tweet Lifespans Scaled by Followers Count</h2>"
   ]
  },
  {
   "cell_type": "code",
   "execution_count": null,
   "metadata": {
    "extensions": {
     "jupyter_dashboards": {
      "version": 1,
      "views": {
       "grid_default": {
        "hidden": true
       },
       "report_default": {
        "hidden": true
       }
      }
     }
    },
    "scrolled": true
   },
   "outputs": [],
   "source": [
    "start_tweet = 0\n",
    "end_tweet = 2\n",
    "for top in range(start_tweet, end_tweet):\n",
    "    \n",
    "    # Get all retweets for tweetid\n",
    "    tweetid = topretweets.iloc[top].retweet_id\n",
    "    top_retweets = retweet_df[retweet_df.retweet_id==tweetid].sort_values('tweet_created_at').reset_index()\n",
    "    \n",
    "    # Create a list of datesfor x axis\n",
    "    values = list(x for x in top_retweets[\"tweet_created_at\"])\n",
    "\n",
    "    # Create list of followers counts\n",
    "    followers_count = list(f for f in top_retweets['followers_count'])\n",
    "    followers_count_scaled = []\n",
    "    for j in range(len(followers_count)):\n",
    "        if followers_count[j] > 1000000:\n",
    "            followers_count_scaled.append(3000)\n",
    "        else:                \n",
    "            followers_count_scaled.append(followers_count[j]/2000)\n",
    "    \n",
    "    plt.figure(figsize=(18,6))\n",
    "    plt.scatter(top_retweets.tweet_created_at, top_retweets.index, s=followers_count_scaled)\n",
    "    plt.xlim([datetime.date(values[0].year, values[0].month, values[0].day), datetime.date(2019, 4, 30)])\n",
    "    plt.xlabel('Date')\n",
    "    plt.ylabel('Cumulative Retweet Count')\n",
    "    plt.title(str(top) + ' - Cumulative Timeline, #' + hashtag + ' Set 2, Tweet ID: ' + str(tweetid))\n",
    "    plt.show()\n",
    "    plt.savefig(\"images/cumulative_scatterplots/\" + str(top) + \"_\" + hashtag + \"_set2_tweet_\" + str(tweetid) + \"_scatter_v1_apr9_to_29_2019.png\")\n",
    "    plt.close()"
   ]
  },
  {
   "cell_type": "markdown",
   "metadata": {
    "extensions": {
     "jupyter_dashboards": {
      "version": 1,
      "views": {
       "grid_default": {
        "col": 8,
        "height": 4,
        "hidden": false,
        "row": 51,
        "width": 4
       },
       "report_default": {
        "hidden": false
       }
      }
     }
    }
   },
   "source": [
    "<h2>Generate Combined Cumulative Timelines of Top Tweet Lifespans Scaled by Followers Count</h2>"
   ]
  },
  {
   "cell_type": "code",
   "execution_count": null,
   "metadata": {
    "extensions": {
     "jupyter_dashboards": {
      "version": 1,
      "views": {
       "grid_default": {
        "hidden": true
       },
       "report_default": {
        "hidden": true
       }
      }
     }
    },
    "scrolled": true
   },
   "outputs": [],
   "source": [
    "start_tweet = 0\n",
    "end_tweet = 2\n",
    "for top in range(start_tweet, end_tweet):\n",
    "    \n",
    "    # Get all retweets for tweetid\n",
    "    tweetid = topretweets.iloc[top].retweet_id\n",
    "    top_retweets = retweet_df[retweet_df.retweet_id==tweetid].sort_values('tweet_created_at').\\\n",
    "        reset_index()\n",
    "    \n",
    "    # Create a list of datesfor x axis\n",
    "    values = list(x for x in top_retweets[\"tweet_created_at\"])\n",
    "    \n",
    "    # Create list of followers counts\n",
    "    followers_count = list(f for f in top_retweets['followers_count'])\n",
    "    followers_count_scaled = []\n",
    "    for j in range(len(followers_count)):\n",
    "        if followers_count[j] > 1000000:\n",
    "            followers_count_scaled.append(3000)\n",
    "        else:                \n",
    "            followers_count_scaled.append(followers_count[j]/2000)\n",
    "    \n",
    "    plt.figure(figsize=(36,12))\n",
    "    plt.scatter(top_retweets.tweet_created_at, top_retweets.index, s=followers_count_scaled, alpha=0.6)\n",
    "    plt.plot(top_retweets.tweet_created_at, top_retweets.index, 'ro', markersize=0.1)\n",
    "    tl = len(top_retweets)-1\n",
    "    plt.xlim([datetime.datetime(values[0].year, values[0].month, values[0].day), datetime.datetime(values[tl].year, values[tl].month, values[tl].day, values[tl].hour)])\n",
    "    plt.xlabel('Date')\n",
    "    plt.ylabel('Cumulative Retweet Count')\n",
    "    plt.title(str(top) + ' - Cumulative Timeline, #' + hashtag + ' Set 2, Tweet ID: ' + str(tweetid))\n",
    "    plt.show()\n",
    "    plt.savefig(\"images/cumulative_scatterplots/\" + str(top) + \"_\" + hashtag + \"_set2_tweet_\" + str(tweetid) + \"_scatter_v1_apr9_to_29_2019.png\")\n",
    "    plt.close()"
   ]
  },
  {
   "cell_type": "markdown",
   "metadata": {
    "extensions": {
     "jupyter_dashboards": {
      "version": 1,
      "views": {
       "grid_default": {
        "col": 0,
        "height": 4,
        "hidden": false,
        "row": 83,
        "width": 12
       },
       "report_default": {
        "hidden": false
       }
      }
     }
    }
   },
   "source": [
    "<h2>Generate Interactive Bokeh Plots in HTML Format For Top Tweets</h2>"
   ]
  },
  {
   "cell_type": "code",
   "execution_count": null,
   "metadata": {},
   "outputs": [],
   "source": [
    "# Set a flag to output in HTML (True) or PNG image (False)\n",
    "plot_html = True"
   ]
  },
  {
   "cell_type": "markdown",
   "metadata": {
    "extensions": {
     "jupyter_dashboards": {
      "version": 1,
      "views": {
       "grid_default": {
        "col": 0,
        "height": 4,
        "hidden": false,
        "row": 23,
        "width": 12
       },
       "report_default": {
        "hidden": false
       }
      }
     }
    }
   },
   "source": [
    "#### Note on Calculating Bot Scores for the top 10000 Users\n",
    "One of the most interesting Bokeh plots we demonstrate in this lesson depends on calculating the \"Bot Score\" for the users who tweeted in this dataset. We do this to learn more about how information dissemination in Twitter can be manipulated by bot-like accounts. Below are a series of commands which provide this informaton and I include it for your curiousity, but we have alread made the bot score calculations and will simply import those scores and proceed with plotting to learn more about tweet lifespans. "
   ]
  },
  {
   "cell_type": "markdown",
   "metadata": {
    "extensions": {
     "jupyter_dashboards": {
      "version": 1,
      "views": {
       "grid_default": {
        "col": 8,
        "height": 4,
        "hidden": false,
        "row": 55,
        "width": 4
       },
       "report_default": {
        "hidden": false
       }
      }
     }
    }
   },
   "source": [
    "Import Botometer CAP English Scores"
   ]
  },
  {
   "cell_type": "code",
   "execution_count": null,
   "metadata": {
    "extensions": {
     "jupyter_dashboards": {
      "version": 1,
      "views": {
       "grid_default": {
        "hidden": true
       },
       "report_default": {
        "hidden": true
       }
      }
     }
    }
   },
   "outputs": [],
   "source": [
    "cap_english_scores_df = pd.read_csv('data/csv/cap_english_scores_top10000.csv')"
   ]
  },
  {
   "cell_type": "code",
   "execution_count": null,
   "metadata": {
    "extensions": {
     "jupyter_dashboards": {
      "version": 1,
      "views": {
       "grid_default": {
        "hidden": true
       },
       "report_default": {
        "hidden": true
       }
      }
     }
    }
   },
   "outputs": [],
   "source": [
    "cap_english_scores_df.head()"
   ]
  },
  {
   "cell_type": "code",
   "execution_count": null,
   "metadata": {},
   "outputs": [],
   "source": [
    "cap_user_screen_names = cap_english_scores_df['user_screen_name'].values.tolist()"
   ]
  },
  {
   "cell_type": "code",
   "execution_count": null,
   "metadata": {
    "extensions": {
     "jupyter_dashboards": {
      "version": 1,
      "views": {
       "grid_default": {
        "col": 0,
        "height": 4,
        "hidden": false,
        "row": 63,
        "width": 4
       },
       "report_default": {
        "hidden": false
       }
      }
     }
    }
   },
   "outputs": [],
   "source": [
    "len(cap_user_screen_names)"
   ]
  },
  {
   "cell_type": "markdown",
   "metadata": {
    "extensions": {
     "jupyter_dashboards": {
      "version": 1,
      "views": {
       "grid_default": {
        "col": 0,
        "height": 4,
        "hidden": false,
        "row": 87,
        "width": 12
       },
       "report_default": {
        "hidden": false
       }
      }
     }
    }
   },
   "source": [
    "<h2>Generate Bokeh Scatterplots Scaled by Followers Count, Colored By Botometer CAP English Score</h2>"
   ]
  },
  {
   "cell_type": "code",
   "execution_count": null,
   "metadata": {
    "extensions": {
     "jupyter_dashboards": {
      "version": 1,
      "views": {
       "grid_default": {
        "hidden": true
       },
       "report_default": {
        "hidden": true
       }
      }
     }
    }
   },
   "outputs": [],
   "source": [
    "start_tweet = 0\n",
    "end_tweet = 2\n",
    "for top in range(start_tweet, end_tweet):\n",
    "    tweet_date_values = []\n",
    "    tweetid = topretweets.iloc[top].retweet_id\n",
    "    top_tweets = retweet_df[retweet_df.retweet_id==tweetid]\n",
    "    followers_count = list(f for f in top_tweets['followers_count'])\n",
    "    tweet_date_values_list = list(x for x in top_tweets[\"tweet_created_at\"])\n",
    "    users = list(user for user in top_tweets[\"user_screen_name\"])\n",
    "    user_description_list = list(user_desc for user_desc in top_tweets[\"user_description\"])\n",
    "    tweet_text_for_plot = list(text for text in top_tweets['text'])\n",
    "    followers_count_scaled_list = []\n",
    "    for j in range(len(followers_count)):\n",
    "        followers_count_scaled = followers_count[j]*100\n",
    "        if followers_count_scaled > 40000000:\n",
    "            followers_count_scaled = 40000000\n",
    "        elif followers_count_scaled < 10:\n",
    "            followers_count_scaled = 10\n",
    "        followers_count_scaled_list.append(followers_count_scaled)\n",
    "    tweet_created_at_seconds = []\n",
    "    y_index = []\n",
    "    fill_color_var = []\n",
    "    tweet_length = len(top_tweets)\n",
    "    for i in range(tweet_length):\n",
    "        tweet_date_values.append(str(tweet_date_values_list[i]))\n",
    "        user = users[i]\n",
    "        if user in cap_user_screen_names:\n",
    "            cap_score = cap_english_scores_df.loc[cap_english_scores_df['user_screen_name'] == user, 'cap_english_score'].iloc[0]\n",
    "            if cap_score > 0.55:\n",
    "                fill_color_var.append('#FF0000')\n",
    "            elif 0.4 < cap_score <= 0.55:\n",
    "                fill_color_var.append('#FFFF00')\n",
    "            else:\n",
    "                fill_color_var.append('#0000FF')\n",
    "        else:\n",
    "            fill_color_var.append('#00FF00')\n",
    "        y_index.append(i)\n",
    "\n",
    "    source = ColumnDataSource(data=dict(\n",
    "        x = tweet_date_values_list,\n",
    "        y = y_index,\n",
    "        followers_count_value = followers_count,\n",
    "        radii = followers_count_scaled_list,\n",
    "        tweet_text = tweet_text_for_plot,\n",
    "        tweet_date = tweet_date_values,\n",
    "        user_data = users,\n",
    "        user_description = user_description_list,\n",
    "        fill_color = fill_color_var\n",
    "    ))\n",
    "\n",
    "    TOOLS=\"crosshair,pan,wheel_zoom,zoom_in,zoom_out,box_zoom,undo,redo,reset,tap,save,box_select,poly_select,lasso_select,\"\n",
    "    title_text = \"Top Tweet #\" + str(top) + ' - #muellerreport Set 2, April 9-29, 2019, Tweet ID ' + str(tweetid)\n",
    "    p = figure(tools=TOOLS, plot_width=1000, plot_height=600, x_axis_type=\"datetime\", title=title_text)\n",
    "    p.scatter(x='x', y='y', radius='radii', fill_color='fill_color', fill_alpha=0.40, line_color='#000000', source=source)\n",
    "    p.add_tools(HoverTool(tooltips=[('User:', '@user_data'),('User Description:', '@user_description'),('Followers Count:', '@followers_count_value'),('Date:', '@tweet_date'),('Tweet:', '@tweet_text')]))\n",
    "\n",
    "    if plot_html:\n",
    "        output_file(\"bokeh/bokeh_scaled_by_followers_count_colored_by_bot_score/\" + str(top) + \"_\" + str(tweetid) + \"_muellerreport_set2_bot_or_not_tweet_bokeh_scatter_v2.html\", title=\"#muellerreport Tweet ID \" + str(tweetid) + \" Bokeh Example\")\n",
    "        show(p)\n",
    "    else:\n",
    "        output_png = \"bokeh/bokeh_scaled_by_followers_count_colored_by_bot_score/images/\" + str(top) + \"_\" + str(tweetid) + \"_muellerreport_set2_bokeh_scatter.png\"\n",
    "        export_png(p, filename=output_png)\n"
   ]
  },
  {
   "cell_type": "markdown",
   "metadata": {
    "extensions": {
     "jupyter_dashboards": {
      "version": 1,
      "views": {
       "grid_default": {
        "col": 8,
        "height": 4,
        "hidden": false,
        "row": 59,
        "width": 4
       },
       "report_default": {
        "hidden": false
       }
      }
     }
    }
   },
   "source": [
    "<h2>Generate Bokeh Scatterplots Scaled and Colored By Botometer CAP English Score</h2>"
   ]
  },
  {
   "cell_type": "code",
   "execution_count": null,
   "metadata": {
    "extensions": {
     "jupyter_dashboards": {
      "version": 1,
      "views": {
       "grid_default": {
        "col": 8,
        "height": 5,
        "hidden": false,
        "row": 63,
        "width": 4
       },
       "report_default": {
        "hidden": false
       }
      }
     }
    }
   },
   "outputs": [],
   "source": [
    "start_tweet = 0\n",
    "end_tweet = 2\n",
    "for top in range(start_tweet, end_tweet):\n",
    "    tweet_date_values = []\n",
    "    cap_scores = []\n",
    "    retweetid = topretweets.iloc[top].retweet_id\n",
    "    top_tweets = retweet_df[retweet_df.retweet_id==retweetid]\n",
    "    tweet_id_list = list(id for id in top_tweets['tweet_id'])\n",
    "    followers_count = list(f for f in top_tweets['followers_count'])\n",
    "    tweet_date_values_list = list(x for x in top_tweets[\"tweet_created_at\"])\n",
    "    users = list(user for user in top_tweets[\"user_screen_name\"])\n",
    "    user_description_list = list(user_desc for user_desc in top_tweets[\"user_description\"])\n",
    "    tweet_text_for_plot = list(text for text in top_tweets['text'])\n",
    "\n",
    "    tweet_created_at_seconds = []\n",
    "    y_index = []\n",
    "    fill_color_var = []\n",
    "    cap_score_list = []\n",
    "    tweet_length = len(top_tweets)\n",
    "    for i in range(tweet_length):\n",
    "        tweet_date_values.append(str(tweet_date_values_list[i]))\n",
    "        user = users[i]\n",
    "        if user in cap_user_screen_names:\n",
    "            cap_score = cap_english_scores_df.loc[cap_english_scores_df['user_screen_name'] == user, 'cap_english_score'].iloc[0]\n",
    "            cap_score_list.append(str(cap_score))\n",
    "            cap_scores.append(cap_score*20000000)\n",
    "            if cap_score > 0.7:\n",
    "                fill_color_var.append('#FF0000')\n",
    "            elif 0.5 < cap_score <= 0.7:\n",
    "                fill_color_var.append('#FFFF00')\n",
    "            else:\n",
    "                fill_color_var.append('#0000FF')\n",
    "        else:\n",
    "            cap_scores.append(cap_score*200000)\n",
    "            cap_score_list.append('0')\n",
    "            fill_color_var.append('#00FF00')\n",
    "        y_index.append(i)\n",
    "\n",
    "    source = ColumnDataSource(data=dict(\n",
    "        x = tweet_date_values_list,\n",
    "        y = y_index,\n",
    "        cap_score_values = cap_score_list,\n",
    "        followers_count_value = followers_count,\n",
    "        radii = cap_scores,\n",
    "        tweet_text = tweet_text_for_plot,\n",
    "        tweet_date = tweet_date_values,\n",
    "        tweet_id_values = tweet_id_list,\n",
    "        user_data = users,\n",
    "        user_description = user_description_list,\n",
    "        fill_color = fill_color_var\n",
    "    ))\n",
    "\n",
    "    TOOLS=\"crosshair,pan,wheel_zoom,zoom_in,zoom_out,box_zoom,undo,redo,reset,tap,save,box_select,poly_select,lasso_select,\"\n",
    "    title_text = 'Top Tweet #' + str(top) + ' - #muellerreport Set 2, April 9-29, 2019, Tweet ID ' + str(retweetid)\n",
    "    p = figure(tools=TOOLS, plot_width=1000, plot_height=600, x_axis_type=\"datetime\", title=title_text)\n",
    "    p.scatter(x='x', y='y', radius='radii', fill_color='fill_color', fill_alpha=0.40, line_color='#000000', source=source)\n",
    "    p.add_tools(HoverTool(tooltips=[('Tweet ID:', '@tweet_id_values'),('User:', '@user_data'),('User Description:', '@user_description'),('Followers Count:', '@followers_count_value'),('Bot Score:', '@cap_score_values'),('Date:', '@tweet_date'),('Tweet:', '@tweet_text')]))\n",
    "\n",
    "    if plot_html:\n",
    "        output_file(\"bokeh/bokeh_colored_and_scaled_by_bot_scores/\" + str(top) + \"_\" + str(retweetid) + \"_muellerreport_set2_bot_or_not_tweet_bokeh_scatter_\" + \"_v3.html\", title=\"#muellerreport Tweet ID \" + str(retweetid) + \" Bokeh Example\")\n",
    "        show(p)\n",
    "    else:\n",
    "        output_png = \"bokeh/bokeh_colored_and_scaled_by_bot_scores/images/\" + str(top) + \"_\" + str(retweetid) + \"_muellerreport_set2_scaled_by_bot_scores_bokeh_scatter.png\"\n",
    "        export_png(p, filename=output_png)\n"
   ]
  },
  {
   "cell_type": "markdown",
   "metadata": {
    "extensions": {
     "jupyter_dashboards": {
      "version": 1,
      "views": {
       "grid_default": {
        "col": 0,
        "height": 4,
        "hidden": false,
        "row": 67,
        "width": 4
       },
       "report_default": {
        "hidden": false
       }
      }
     }
    }
   },
   "source": [
    "<h2>Generate Bokeh Scatterplots Scaled by Retweeting the Same Tweet Multiple Times</h2>"
   ]
  },
  {
   "cell_type": "code",
   "execution_count": null,
   "metadata": {
    "extensions": {
     "jupyter_dashboards": {
      "version": 1,
      "views": {
       "grid_default": {
        "hidden": true
       },
       "report_default": {
        "hidden": true
       }
      }
     }
    }
   },
   "outputs": [],
   "source": [
    "for top in range(0,1):\n",
    "    tweeters_4plot = []\n",
    "    retweetid = topretweets.iloc[top].retweet_id\n",
    "    top_tweets = retweet_df[retweet_df.retweet_id==retweetid]\n",
    "    tweeters = top_tweets[top_tweets.retweeted_status != 0].groupby('user_screen_name').size().sort_values(ascending=False).reset_index()\n",
    "    tweeters = tweeters.rename(columns={0:'user_retweet_count'})\n",
    "    toptweeters = tweeters[tweeters.user_retweet_count > 1]\n",
    "    tweeter_user_screen_names = toptweeters.user_screen_name\n",
    "    for i in range(len(toptweeters)):\n",
    "        tweeters_4plot.append(tweeter_user_screen_names[i])\n"
   ]
  },
  {
   "cell_type": "code",
   "execution_count": null,
   "metadata": {
    "extensions": {
     "jupyter_dashboards": {
      "version": 1,
      "views": {
       "grid_default": {
        "col": 0,
        "height": 10,
        "hidden": false,
        "row": 91,
        "width": 4
       },
       "report_default": {
        "hidden": true
       }
      }
     }
    }
   },
   "outputs": [],
   "source": [
    "tweeters_4plot"
   ]
  },
  {
   "cell_type": "code",
   "execution_count": null,
   "metadata": {
    "extensions": {
     "jupyter_dashboards": {
      "version": 1,
      "views": {
       "grid_default": {
        "col": 4,
        "height": 12,
        "hidden": false,
        "row": 91,
        "width": 4
       },
       "report_default": {
        "hidden": true
       }
      }
     }
    }
   },
   "outputs": [],
   "source": [
    "start_tweet = 0\n",
    "end_tweet = 2\n",
    "for top in range(start_tweet, end_tweet):\n",
    "    tweeters_4plot = []\n",
    "    tweet_date_values = []\n",
    "    cap_scores = []\n",
    "    dot_scale = []\n",
    "    retweetid = topretweets.iloc[top].retweet_id\n",
    "    top_tweets = retweet_df[retweet_df.retweet_id==retweetid]\n",
    "    tweeters = top_tweets[top_tweets.retweeted_status != 0].groupby('user_screen_name').size().sort_values(ascending=False).reset_index()\n",
    "    tweeters = tweeters.rename(columns={0:'user_retweet_count'})\n",
    "    toptweeters = tweeters[tweeters.user_retweet_count > 2]\n",
    "    tweeter_user_screen_names = toptweeters.user_screen_name\n",
    "    for i in range(len(toptweeters)):\n",
    "        tweeters_4plot.append(tweeter_user_screen_names[i])\n",
    "    tweet_id_list = list(id for id in top_tweets['tweet_id'])\n",
    "    followers_count = list(f for f in top_tweets['followers_count'])\n",
    "    tweet_date_values_list = list(x for x in top_tweets[\"tweet_created_at\"])\n",
    "#     tweet_date_values_list = list(dateval for dateval in top_tweets['tweet_created_at'])\n",
    "    users = list(user for user in top_tweets[\"user_screen_name\"])\n",
    "    user_description_list = list(user_desc for user_desc in top_tweets[\"user_description\"])\n",
    "    tweet_text_for_plot = list(text for text in top_tweets['text'])\n",
    "\n",
    "    tweet_created_at_seconds = []\n",
    "    y_index = []\n",
    "    fill_color_var = []\n",
    "    cap_score_list = []\n",
    "    tweet_length = len(top_tweets)\n",
    "    for i in range(tweet_length):\n",
    "        tweet_date_values.append(str(tweet_date_values_list[i]))\n",
    "#         print(tweet_date_values)\n",
    "        user = users[i]\n",
    "        if user in tweeters_4plot:\n",
    "            dot_scale.append(20000000)\n",
    "        else:\n",
    "            dot_scale.append(1000)\n",
    "        if user in cap_user_screen_names:\n",
    "            cap_score = cap_english_scores_df.loc[cap_english_scores_df['user_screen_name'] == user, 'cap_english_score'].iloc[0]\n",
    "            cap_score_list.append(str(cap_score))\n",
    "            cap_scores.append(cap_score*20000000)\n",
    "            if cap_score > 0.7:\n",
    "                fill_color_var.append('#FF0000')\n",
    "            elif 0.5 < cap_score <= 0.7:\n",
    "                fill_color_var.append('#FFFF00')\n",
    "            else:\n",
    "                fill_color_var.append('#0000FF')\n",
    "        else:\n",
    "            cap_scores.append(cap_score*200000)\n",
    "            cap_score_list.append('0')\n",
    "            fill_color_var.append('#00FF00')\n",
    "        y_index.append(i)\n",
    "\n",
    "    source = ColumnDataSource(data=dict(\n",
    "        x = tweet_date_values_list,\n",
    "        y = y_index,\n",
    "        cap_score_values = cap_score_list,\n",
    "        followers_count_value = followers_count,\n",
    "        radii = dot_scale,\n",
    "        tweet_text = tweet_text_for_plot,\n",
    "        tweet_date = tweet_date_values,\n",
    "        tweet_id_values = tweet_id_list,\n",
    "        user_data = users,\n",
    "        user_description = user_description_list,\n",
    "        fill_color = fill_color_var\n",
    "    ))\n",
    "\n",
    "    TOOLS=\"crosshair,pan,wheel_zoom,zoom_in,zoom_out,box_zoom,undo,redo,reset,tap,save,box_select,poly_select,lasso_select,\"\n",
    "    title_text = 'Top Tweet #' + str(top) + ' - #muellerreport, Multiple Retweets, April 9-29, 2019, Tweet ID ' + str(retweetid)\n",
    "    p = figure(tools=TOOLS, plot_width=1000, plot_height=600, x_axis_type=\"datetime\", title=title_text)\n",
    "    p.scatter(x='x', y='y', radius='radii', fill_color='fill_color', fill_alpha=0.40, line_color='#000000', source=source)\n",
    "    p.add_tools(HoverTool(tooltips=[('Tweet ID:', '@tweet_id_values'),('User:', '@user_data'),('User Description:', '@user_description'),('Followers Count:', '@followers_count_value'),('Bot Score:', '@cap_score_values'),('Date:', '@tweet_date'),('Tweet:', '@tweet_text')]))\n",
    "\n",
    "    if plot_html:\n",
    "        output_file(\"bokeh/bokeh_colored_by_bot_score_scaled_by_multiple_retweets/\" + str(top) + \"_\" + str(retweetid) + \"_muellerreport_set2_multi_retweets_bokeh_scatter.html\", title=\"#muellerreport Tweet ID \" + str(retweetid) + \" Bokeh Example\")\n",
    "        show(p)\n",
    "    else:\n",
    "        output_png = \"bokeh/bokeh_colored_by_bot_score_scaled_by_multiple_retweets/\" + str(top) + \"_\" + str(retweetid) + \"_muellerreport_set2_bot_or_not_tweet_bokeh_scatter_\" + \"_v3.png\"\n",
    "        export_png(p, filename=output_png)\n"
   ]
  },
  {
   "cell_type": "code",
   "execution_count": null,
   "metadata": {},
   "outputs": [],
   "source": []
  }
 ],
 "metadata": {
  "extensions": {
   "jupyter_dashboards": {
    "activeView": "report_default",
    "version": 1,
    "views": {
     "grid_default": {
      "cellMargin": 10,
      "defaultCellHeight": 20,
      "maxColumns": 12,
      "name": "grid",
      "type": "grid"
     },
     "report_default": {
      "name": "report",
      "type": "report"
     }
    }
   }
  },
  "kernelspec": {
   "display_name": "Python 3",
   "language": "python",
   "name": "python3"
  },
  "language_info": {
   "codemirror_mode": {
    "name": "ipython",
    "version": 3
   },
   "file_extension": ".py",
   "mimetype": "text/x-python",
   "name": "python",
   "nbconvert_exporter": "python",
   "pygments_lexer": "ipython3",
   "version": "3.7.3"
  }
 },
 "nbformat": 4,
 "nbformat_minor": 2
}
